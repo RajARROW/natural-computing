{
  "nbformat": 4,
  "nbformat_minor": 0,
  "metadata": {
    "colab": {
      "name": "NC_8.ipynb",
      "provenance": [],
      "collapsed_sections": []
    },
    "kernelspec": {
      "name": "python3",
      "display_name": "Python 3"
    },
    "language_info": {
      "name": "python"
    }
  },
  "cells": [
    {
      "cell_type": "code",
      "execution_count": null,
      "metadata": {
        "colab": {
          "base_uri": "https://localhost:8080/"
        },
        "id": "vrRJjoFafFWj",
        "outputId": "f0c5fc0b-0f0a-436c-f62c-2efb80c78eea"
      },
      "outputs": [
        {
          "output_type": "stream",
          "name": "stdout",
          "text": [
            "Collecting gplearn\n",
            "  Downloading gplearn-0.4.1-py3-none-any.whl (41 kB)\n",
            "\u001b[?25l\r\u001b[K     |████████                        | 10 kB 18.8 MB/s eta 0:00:01\r\u001b[K     |███████████████▉                | 20 kB 4.1 MB/s eta 0:00:01\r\u001b[K     |███████████████████████▊        | 30 kB 5.7 MB/s eta 0:00:01\r\u001b[K     |███████████████████████████████▊| 40 kB 5.5 MB/s eta 0:00:01\r\u001b[K     |████████████████████████████████| 41 kB 266 kB/s \n",
            "\u001b[?25hRequirement already satisfied: scikit-learn>=0.20.0 in /usr/local/lib/python3.7/dist-packages (from gplearn) (1.0.2)\n",
            "Requirement already satisfied: joblib>=0.13.0 in /usr/local/lib/python3.7/dist-packages (from gplearn) (1.1.0)\n",
            "Requirement already satisfied: threadpoolctl>=2.0.0 in /usr/local/lib/python3.7/dist-packages (from scikit-learn>=0.20.0->gplearn) (3.1.0)\n",
            "Requirement already satisfied: numpy>=1.14.6 in /usr/local/lib/python3.7/dist-packages (from scikit-learn>=0.20.0->gplearn) (1.19.5)\n",
            "Requirement already satisfied: scipy>=1.1.0 in /usr/local/lib/python3.7/dist-packages (from scikit-learn>=0.20.0->gplearn) (1.4.1)\n",
            "Installing collected packages: gplearn\n",
            "Successfully installed gplearn-0.4.1\n",
            "Requirement already satisfied: sklearn in /usr/local/lib/python3.7/dist-packages (0.0)\n",
            "Requirement already satisfied: scikit-learn in /usr/local/lib/python3.7/dist-packages (from sklearn) (1.0.2)\n",
            "Requirement already satisfied: threadpoolctl>=2.0.0 in /usr/local/lib/python3.7/dist-packages (from scikit-learn->sklearn) (3.1.0)\n",
            "Requirement already satisfied: joblib>=0.11 in /usr/local/lib/python3.7/dist-packages (from scikit-learn->sklearn) (1.1.0)\n",
            "Requirement already satisfied: numpy>=1.14.6 in /usr/local/lib/python3.7/dist-packages (from scikit-learn->sklearn) (1.19.5)\n",
            "Requirement already satisfied: scipy>=1.1.0 in /usr/local/lib/python3.7/dist-packages (from scikit-learn->sklearn) (1.4.1)\n",
            "Requirement already satisfied: graphviz in /usr/local/lib/python3.7/dist-packages (0.10.1)\n"
          ]
        }
      ],
      "source": [
        "%pip install gplearn\n",
        "%pip install sklearn\n",
        "%pip install graphviz"
      ]
    },
    {
      "cell_type": "code",
      "source": [
        "import gplearn\n",
        "import numpy as np\n",
        "import seaborn as sns\n",
        "import operator\n",
        "import math\n",
        "import random\n",
        "from gplearn.genetic import SymbolicRegressor\n",
        "import graphviz\n",
        "import matplotlib.pyplot as plt"
      ],
      "metadata": {
        "id": "llwNQgQzfG-p"
      },
      "execution_count": null,
      "outputs": []
    },
    {
      "cell_type": "code",
      "source": [
        "X = np.linspace(-1, 1, 21)\n",
        "y = [0.0000, -0.1629, -0.2624, -0.3129, -0.3264, -0.3125, -0.2784, -0.2289, -0.1664, -0.0909, 0.0,  0.1111, 0.2496, 0.4251, 0.6496, 0.9375, 1.3056,  1.7731,  2.3616, 3.0951,  4.0000]"
      ],
      "metadata": {
        "id": "mE8n-NbufM-K"
      },
      "execution_count": null,
      "outputs": []
    },
    {
      "cell_type": "code",
      "source": [
        "sns.scatterplot(x=X, y=y)"
      ],
      "metadata": {
        "colab": {
          "base_uri": "https://localhost:8080/",
          "height": 282
        },
        "id": "zPBRNXbIfOTB",
        "outputId": "7b82563f-7509-4234-b688-86c213ad0818"
      },
      "execution_count": null,
      "outputs": [
        {
          "output_type": "execute_result",
          "data": {
            "text/plain": [
              "<matplotlib.axes._subplots.AxesSubplot at 0x7fe75c1d1250>"
            ]
          },
          "metadata": {},
          "execution_count": 11
        },
        {
          "output_type": "display_data",
          "data": {
            "image/png": "[encoded data removed]",
            "text/plain": [
              "<Figure size 432x288 with 1 Axes>"
            ]
          },
          "metadata": {
            "needs_background": "light"
          }
        }
      ]
    },
    {
      "cell_type": "code",
      "source": [
        "import sklearn\n",
        "from sklearn.model_selection import train_test_split\n",
        "\n",
        "X_train, x_test, y_train, y_test = train_test_split(X, y, test_size=0.3)\n",
        "x_test, x_val, y_test, y_val = train_test_split(x_test, y_test, test_size=0.5)\n"
      ],
      "metadata": {
        "id": "hyTyX26KfPTQ"
      },
      "execution_count": null,
      "outputs": []
    },
    {
      "cell_type": "code",
      "source": [
        "def _exp(x1):\n",
        "    return np.exp(x1)\n",
        "\n",
        "exp = gplearn.functions.make_function(function=_exp,\n",
        "                        name='exp',\n",
        "                        arity=1)\n",
        "\n",
        "def _minus_absolute_error(y, y_pred, w):\n",
        "    \"\"\"Calculate the minus sum absolute error.\"\"\"\n",
        "    return -np.sum(np.abs(y_pred - y))\n",
        "\n",
        "mae = gplearn.fitness.make_fitness(_minus_absolute_error, greater_is_better=True)\n",
        "\n",
        "function_set = ['add', 'sub', 'mul', 'log', 'sin', 'cos', 'div', exp]\n",
        "\n",
        "est_gp = SymbolicRegressor(generations=50, population_size=1000, verbose =1,\n",
        "                         p_crossover=0.7, function_set=function_set,p_subtree_mutation=0,\n",
        "                         p_point_mutation=0, p_hoist_mutation = 0, metric = mae)\n",
        "\n",
        "est_gp.fit(X_train.reshape(-1, 1), y_train)"
      ],
      "metadata": {
        "colab": {
          "base_uri": "https://localhost:8080/"
        },
        "id": "doxot7HNf2e9",
        "outputId": "7d6bc8f7-2a7e-4ae1-e9aa-6c703d9bad2d"
      },
      "execution_count": null,
      "outputs": [
        {
          "output_type": "stream",
          "name": "stdout",
          "text": [
            "    |   Population Average    |             Best Individual              |\n",
            "---- ------------------------- ------------------------------------------ ----------\n",
            " Gen   Length          Fitness   Length          Fitness      OOB Fitness  Time Left\n"
          ]
        },
        {
          "output_type": "stream",
          "name": "stderr",
          "text": [
            "/usr/local/lib/python3.7/dist-packages/ipykernel_launcher.py:2: RuntimeWarning: overflow encountered in exp\n",
            "  \n"
          ]
        },
        {
          "output_type": "stream",
          "name": "stdout",
          "text": [
            "   0    15.44             -inf        6         -2.22797              N/A     43.45s\n",
            "   1    10.41         -13.5559        8         -1.34252              N/A     33.10s\n",
            "   2     9.97          -11.724        8         -1.34252              N/A     32.69s\n",
            "   3     9.33          -16.547        8          -1.2376              N/A     31.87s\n",
            "   4     8.44         -14.5077        8          -1.2376              N/A     30.50s\n",
            "   5     7.96         -8.51187        8         -1.23598              N/A     32.35s\n",
            "   6     7.91         -8.05485       10         -1.17198              N/A     29.73s\n",
            "   7     8.15         -8.52457       10         -1.17198              N/A     28.72s\n",
            "   8     9.18         -10.2114       12         -1.14029              N/A     27.72s\n",
            "   9    10.41         -7.41504       12         -1.14029              N/A     27.06s\n",
            "  10    12.04         -6.96244       12         -1.14029              N/A     27.90s\n",
            "  11    12.00         -6.75766       12         -1.14029              N/A     27.96s\n",
            "  12    11.86         -6.72756       12         -1.14029              N/A     27.48s\n",
            "  13    12.07         -6.54502       12         -1.14029              N/A     26.46s\n",
            "  14    12.02         -6.79022       12         -1.14029              N/A     25.62s\n",
            "  15    12.01         -6.79936       12         -1.14029              N/A     26.18s\n",
            "  16    12.12         -7.20219       12         -1.14029              N/A     27.08s\n",
            "  17    12.01          -6.8981       12         -1.14029              N/A     21.29s\n",
            "  18    11.92         -7.44561       12         -1.14029              N/A     22.33s\n",
            "  19    12.07         -6.99861       12         -1.14029              N/A     21.07s\n",
            "  20    12.09         -6.79788       12         -1.14029              N/A     20.33s\n",
            "  21    12.09         -6.58701       12         -1.14029              N/A     21.76s\n",
            "  22    12.13         -6.55327       12         -1.14029              N/A     18.61s\n",
            "  23    12.04         -6.74956       12         -1.14029              N/A     19.11s\n",
            "  24    12.00         -7.02156       12         -1.14029              N/A     18.33s\n",
            "  25    11.79         -6.85336       12         -1.14029              N/A     19.42s\n",
            "  26    12.17         -6.65218       12         -1.14029              N/A     18.15s\n",
            "  27    12.09         -6.77903       12         -1.14029              N/A     15.51s\n",
            "  28    12.05         -7.05634       12         -1.14029              N/A     16.08s\n",
            "  29    12.04         -6.23111       12         -1.14029              N/A     15.16s\n",
            "  30    11.96         -7.35291       12         -1.14029              N/A     13.81s\n",
            "  31    11.83         -6.42644       12         -1.14029              N/A     13.15s\n",
            "  32    11.99         -6.75605       12         -1.14029              N/A     12.15s\n",
            "  33    11.84         -6.56494       12         -1.14029              N/A     13.77s\n",
            "  34    11.85         -6.99341       12         -1.14029              N/A     11.10s\n",
            "  35    12.04         -6.54262       12         -1.14029              N/A     12.15s\n",
            "  36    11.83         -7.10742       12         -1.14029              N/A      9.18s\n",
            "  37    12.04         -6.85082       12         -1.14029              N/A      9.39s\n",
            "  38    11.98         -6.94932       12         -1.14029              N/A      8.91s\n",
            "  39    12.04         -6.40682       12         -1.14029              N/A      6.56s\n",
            "  40    11.94          -7.1054       12         -1.14029              N/A      6.50s\n",
            "  41    11.99         -6.42386       12         -1.14029              N/A      6.55s\n",
            "  42    11.90         -7.13921       12         -1.14029              N/A      5.63s\n",
            "  43    11.74         -6.43189       12         -1.14029              N/A      4.83s\n",
            "  44    11.83         -6.19434       12         -1.14029              N/A      3.91s\n",
            "  45    11.99         -6.52082       12         -1.14029              N/A      3.19s\n",
            "  46    12.07         -6.76086       12         -1.14029              N/A      2.41s\n",
            "  47    11.90         -6.69982       12         -1.14029              N/A      1.43s\n",
            "  48    12.21         -6.79758       12         -1.14029              N/A      0.74s\n",
            "  49    11.81         -6.22292       12         -1.14029              N/A      0.00s\n"
          ]
        },
        {
          "output_type": "execute_result",
          "data": {
            "text/plain": [
              "SymbolicRegressor(function_set=['add', 'sub', 'mul', 'log', 'sin', 'cos', 'div',\n",
              "                                <gplearn.functions._Function object at 0x7fe747150410>],\n",
              "                  generations=50,\n",
              "                  metric=<gplearn.fitness._Fitness object at 0x7fe7478a98d0>,\n",
              "                  p_crossover=0.7, p_hoist_mutation=0, p_point_mutation=0,\n",
              "                  p_subtree_mutation=0, verbose=1)"
            ]
          },
          "metadata": {},
          "execution_count": 18
        }
      ]
    },
    {
      "cell_type": "code",
      "source": [
        "print(est_gp.run_details_.keys())"
      ],
      "metadata": {
        "id": "e8z8sPaWl533",
        "outputId": "00968dce-0337-4021-8978-ee2725844e45",
        "colab": {
          "base_uri": "https://localhost:8080/"
        }
      },
      "execution_count": null,
      "outputs": [
        {
          "output_type": "stream",
          "name": "stdout",
          "text": [
            "dict_keys(['generation', 'average_length', 'average_fitness', 'best_length', 'best_fitness', 'best_oob_fitness', 'generation_time'])\n"
          ]
        }
      ]
    },
    {
      "cell_type": "code",
      "source": [
        "# a)\n",
        "x_axis = est_gp.run_details_['generation']\n",
        "y_axis = est_gp.run_details_['best_fitness']\n",
        "plt.plot(x_axis, y_axis)\n",
        "plt.xlabel(\"Generation\")\n",
        "plt.ylabel(\"Fitness\")\n",
        "plt.savefig(\"best_fitness\")\n",
        "plt.show()"
      ],
      "metadata": {
        "colab": {
          "base_uri": "https://localhost:8080/",
          "height": 279
        },
        "id": "PIIKlXPyw-6u",
        "outputId": "d0cbde96-0faf-49c5-94a2-ac66bbf7d78d"
      },
      "execution_count": null,
      "outputs": [
        {
          "output_type": "display_data",
          "data": {
            "image/png": "[encoded data removed]",
            "text/plain": [
              "<Figure size 432x288 with 1 Axes>"
            ]
          },
          "metadata": {
            "needs_background": "light"
          }
        }
      ]
    },
    {
      "cell_type": "code",
      "source": [
        "# b)\n",
        "x_axis = est_gp.run_details_['generation']\n",
        "y_axis = est_gp.run_details_['best_length']\n",
        "plt.plot(x_axis, y_axis)\n",
        "plt.xlabel(\"Generation\")\n",
        "plt.ylabel(\"Node length\")\n",
        "plt.savefig(\"best_length\")\n",
        "plt.show()"
      ],
      "metadata": {
        "colab": {
          "base_uri": "https://localhost:8080/",
          "height": 279
        },
        "id": "UZ6n0NvhwV8i",
        "outputId": "b6a04046-fea1-483c-9f15-1212ec51b97c"
      },
      "execution_count": null,
      "outputs": [
        {
          "output_type": "display_data",
          "data": {
            "image/png": "[encoded data removed]",
            "text/plain": [
              "<Figure size 432x288 with 1 Axes>"
            ]
          },
          "metadata": {
            "needs_background": "light"
          }
        }
      ]
    },
    {
      "cell_type": "code",
      "source": [
        "# b) a)\n",
        "x_axis = est_gp.run_details_['generation']\n",
        "y_axis = est_gp.run_details_['average_length']\n",
        "plt.plot(x_axis, y_axis)\n",
        "plt.xlabel(\"Generation\")\n",
        "plt.ylabel(\"Average node length\")\n",
        "plt.savefig(\"average_length\")\n",
        "plt.show()"
      ],
      "metadata": {
        "colab": {
          "base_uri": "https://localhost:8080/",
          "height": 279
        },
        "id": "G_ChgX4AxRtn",
        "outputId": "eee9d79f-d39e-4da2-f38f-fb3cd56c35ed"
      },
      "execution_count": null,
      "outputs": [
        {
          "output_type": "display_data",
          "data": {
            "image/png": "[encoded data removed]",
            "text/plain": [
              "<Figure size 432x288 with 1 Axes>"
            ]
          },
          "metadata": {
            "needs_background": "light"
          }
        }
      ]
    },
    {
      "cell_type": "code",
      "source": [
        "print(est_gp._program)\n",
        "print(est_gp._program.raw_fitness_)\n",
        "print()\n",
        "dot_data=est_gp._program.export_graphviz()\n",
        "graph = graphviz.Source(dot_data)\n",
        "graph"
      ],
      "metadata": {
        "id": "qhdZGimdkRcv",
        "colab": {
          "base_uri": "https://localhost:8080/",
          "height": 516
        },
        "outputId": "b999f147-12de-48c6-99c4-4235e1d1f8f6"
      },
      "execution_count": null,
      "outputs": [
        {
          "output_type": "stream",
          "name": "stdout",
          "text": [
            "mul(exp(sub(X0, -0.179)), sub(sub(sub(X0, -0.013), -0.013), -0.013))\n",
            "-1.1402896439659562\n",
            "\n"
          ]
        },
        {
          "output_type": "execute_result",
          "data": {
            "text/plain": [
              "<graphviz.files.Source at 0x7fe74767c510>"
            ],
            "image/svg+xml": "<?xml version=\"1.0\" encoding=\"UTF-8\" standalone=\"no\"?>\n<!DOCTYPE svg PUBLIC \"-//W3C//DTD SVG 1.1//EN\"\n \"http://www.w3.org/Graphics/SVG/1.1/DTD/svg11.dtd\">\n<!-- Generated by graphviz version 2.40.1 (20161225.0304)\n -->\n<!-- Title: program Pages: 1 -->\n<svg width=\"314pt\" height=\"332pt\"\n viewBox=\"0.00 0.00 313.75 332.00\" xmlns=\"http://www.w3.org/2000/svg\" xmlns:xlink=\"http://www.w3.org/1999/xlink\">\n<g id=\"graph0\" class=\"graph\" transform=\"scale(1 1) rotate(0) translate(4 328)\">\n<title>program</title>\n<polygon fill=\"#ffffff\" stroke=\"transparent\" points=\"-4,4 -4,-328 309.7468,-328 309.7468,4 -4,4\"/>\n<!-- 0 -->\n<g id=\"node1\" class=\"node\">\n<title>0</title>\n<ellipse fill=\"#136ed4\" stroke=\"#000000\" cx=\"149\" cy=\"-306\" rx=\"27\" ry=\"18\"/>\n<text text-anchor=\"middle\" x=\"149\" y=\"-302.3\" font-family=\"Times,serif\" font-size=\"14.00\" fill=\"#000000\">mul</text>\n</g>\n<!-- 1 -->\n<g id=\"node2\" class=\"node\">\n<title>1</title>\n<ellipse fill=\"#136ed4\" stroke=\"#000000\" cx=\"113\" cy=\"-234\" rx=\"27\" ry=\"18\"/>\n<text text-anchor=\"middle\" x=\"113\" y=\"-230.3\" font-family=\"Times,serif\" font-size=\"14.00\" fill=\"#000000\">exp</text>\n</g>\n<!-- 0&#45;&gt;1 -->\n<g id=\"edge11\" class=\"edge\">\n<title>0&#45;&gt;1</title>\n<path fill=\"none\" stroke=\"#000000\" d=\"M140.2854,-288.5708C136.0403,-280.0807 130.8464,-269.6929 126.1337,-260.2674\"/>\n<polygon fill=\"#000000\" stroke=\"#000000\" points=\"129.237,-258.6477 121.6343,-251.2687 122.976,-261.7782 129.237,-258.6477\"/>\n</g>\n<!-- 5 -->\n<g id=\"node6\" class=\"node\">\n<title>5</title>\n<ellipse fill=\"#136ed4\" stroke=\"#000000\" cx=\"189\" cy=\"-234\" rx=\"27\" ry=\"18\"/>\n<text text-anchor=\"middle\" x=\"189\" y=\"-230.3\" font-family=\"Times,serif\" font-size=\"14.00\" fill=\"#000000\">sub</text>\n</g>\n<!-- 0&#45;&gt;5 -->\n<g id=\"edge10\" class=\"edge\">\n<title>0&#45;&gt;5</title>\n<path fill=\"none\" stroke=\"#000000\" d=\"M158.4794,-288.937C163.3115,-280.2393 169.2889,-269.4799 174.6696,-259.7948\"/>\n<polygon fill=\"#000000\" stroke=\"#000000\" points=\"177.7917,-261.3819 179.5886,-250.9405 171.6726,-257.9823 177.7917,-261.3819\"/>\n</g>\n<!-- 2 -->\n<g id=\"node3\" class=\"node\">\n<title>2</title>\n<ellipse fill=\"#136ed4\" stroke=\"#000000\" cx=\"108\" cy=\"-162\" rx=\"27\" ry=\"18\"/>\n<text text-anchor=\"middle\" x=\"108\" y=\"-158.3\" font-family=\"Times,serif\" font-size=\"14.00\" fill=\"#000000\">sub</text>\n</g>\n<!-- 1&#45;&gt;2 -->\n<g id=\"edge3\" class=\"edge\">\n<title>1&#45;&gt;2</title>\n<path fill=\"none\" stroke=\"#000000\" d=\"M111.7383,-215.8314C111.2035,-208.131 110.5677,-198.9743 109.9734,-190.4166\"/>\n<polygon fill=\"#000000\" stroke=\"#000000\" points=\"113.4632,-190.1467 109.2787,-180.4133 106.48,-190.6317 113.4632,-190.1467\"/>\n</g>\n<!-- 3 -->\n<g id=\"node4\" class=\"node\">\n<title>3</title>\n<ellipse fill=\"#60a6f6\" stroke=\"#000000\" cx=\"27\" cy=\"-90\" rx=\"27\" ry=\"18\"/>\n<text text-anchor=\"middle\" x=\"27\" y=\"-86.3\" font-family=\"Times,serif\" font-size=\"14.00\" fill=\"#000000\">X0</text>\n</g>\n<!-- 2&#45;&gt;3 -->\n<g id=\"edge2\" class=\"edge\">\n<title>2&#45;&gt;3</title>\n<path fill=\"none\" stroke=\"#000000\" d=\"M91.6084,-147.4297C79.9707,-137.0851 64.1572,-123.0286 51.0881,-111.4116\"/>\n<polygon fill=\"#000000\" stroke=\"#000000\" points=\"53.1666,-108.5763 43.3672,-104.5486 48.516,-113.8082 53.1666,-108.5763\"/>\n</g>\n<!-- 4 -->\n<g id=\"node5\" class=\"node\">\n<title>4</title>\n<ellipse fill=\"#60a6f6\" stroke=\"#000000\" cx=\"108\" cy=\"-90\" rx=\"35.9954\" ry=\"18\"/>\n<text text-anchor=\"middle\" x=\"108\" y=\"-86.3\" font-family=\"Times,serif\" font-size=\"14.00\" fill=\"#000000\">&#45;0.179</text>\n</g>\n<!-- 2&#45;&gt;4 -->\n<g id=\"edge1\" class=\"edge\">\n<title>2&#45;&gt;4</title>\n<path fill=\"none\" stroke=\"#000000\" d=\"M108,-143.8314C108,-136.131 108,-126.9743 108,-118.4166\"/>\n<polygon fill=\"#000000\" stroke=\"#000000\" points=\"111.5001,-118.4132 108,-108.4133 104.5001,-118.4133 111.5001,-118.4132\"/>\n</g>\n<!-- 6 -->\n<g id=\"node7\" class=\"node\">\n<title>6</title>\n<ellipse fill=\"#136ed4\" stroke=\"#000000\" cx=\"189\" cy=\"-162\" rx=\"27\" ry=\"18\"/>\n<text text-anchor=\"middle\" x=\"189\" y=\"-158.3\" font-family=\"Times,serif\" font-size=\"14.00\" fill=\"#000000\">sub</text>\n</g>\n<!-- 5&#45;&gt;6 -->\n<g id=\"edge9\" class=\"edge\">\n<title>5&#45;&gt;6</title>\n<path fill=\"none\" stroke=\"#000000\" d=\"M189,-215.8314C189,-208.131 189,-198.9743 189,-190.4166\"/>\n<polygon fill=\"#000000\" stroke=\"#000000\" points=\"192.5001,-190.4132 189,-180.4133 185.5001,-190.4133 192.5001,-190.4132\"/>\n</g>\n<!-- 11 -->\n<g id=\"node12\" class=\"node\">\n<title>11</title>\n<ellipse fill=\"#60a6f6\" stroke=\"#000000\" cx=\"270\" cy=\"-162\" rx=\"35.9954\" ry=\"18\"/>\n<text text-anchor=\"middle\" x=\"270\" y=\"-158.3\" font-family=\"Times,serif\" font-size=\"14.00\" fill=\"#000000\">&#45;0.013</text>\n</g>\n<!-- 5&#45;&gt;11 -->\n<g id=\"edge8\" class=\"edge\">\n<title>5&#45;&gt;11</title>\n<path fill=\"none\" stroke=\"#000000\" d=\"M205.3916,-219.4297C216.6465,-209.4253 231.8069,-195.9494 244.6135,-184.5657\"/>\n<polygon fill=\"#000000\" stroke=\"#000000\" points=\"247.0785,-187.0575 252.2273,-177.7979 242.4279,-181.8257 247.0785,-187.0575\"/>\n</g>\n<!-- 7 -->\n<g id=\"node8\" class=\"node\">\n<title>7</title>\n<ellipse fill=\"#136ed4\" stroke=\"#000000\" cx=\"189\" cy=\"-90\" rx=\"27\" ry=\"18\"/>\n<text text-anchor=\"middle\" x=\"189\" y=\"-86.3\" font-family=\"Times,serif\" font-size=\"14.00\" fill=\"#000000\">sub</text>\n</g>\n<!-- 6&#45;&gt;7 -->\n<g id=\"edge7\" class=\"edge\">\n<title>6&#45;&gt;7</title>\n<path fill=\"none\" stroke=\"#000000\" d=\"M189,-143.8314C189,-136.131 189,-126.9743 189,-118.4166\"/>\n<polygon fill=\"#000000\" stroke=\"#000000\" points=\"192.5001,-118.4132 189,-108.4133 185.5001,-118.4133 192.5001,-118.4132\"/>\n</g>\n<!-- 10 -->\n<g id=\"node11\" class=\"node\">\n<title>10</title>\n<ellipse fill=\"#60a6f6\" stroke=\"#000000\" cx=\"270\" cy=\"-90\" rx=\"35.9954\" ry=\"18\"/>\n<text text-anchor=\"middle\" x=\"270\" y=\"-86.3\" font-family=\"Times,serif\" font-size=\"14.00\" fill=\"#000000\">&#45;0.013</text>\n</g>\n<!-- 6&#45;&gt;10 -->\n<g id=\"edge6\" class=\"edge\">\n<title>6&#45;&gt;10</title>\n<path fill=\"none\" stroke=\"#000000\" d=\"M205.3916,-147.4297C216.6465,-137.4253 231.8069,-123.9494 244.6135,-112.5657\"/>\n<polygon fill=\"#000000\" stroke=\"#000000\" points=\"247.0785,-115.0575 252.2273,-105.7979 242.4279,-109.8257 247.0785,-115.0575\"/>\n</g>\n<!-- 8 -->\n<g id=\"node9\" class=\"node\">\n<title>8</title>\n<ellipse fill=\"#60a6f6\" stroke=\"#000000\" cx=\"148\" cy=\"-18\" rx=\"27\" ry=\"18\"/>\n<text text-anchor=\"middle\" x=\"148\" y=\"-14.3\" font-family=\"Times,serif\" font-size=\"14.00\" fill=\"#000000\">X0</text>\n</g>\n<!-- 7&#45;&gt;8 -->\n<g id=\"edge5\" class=\"edge\">\n<title>7&#45;&gt;8</title>\n<path fill=\"none\" stroke=\"#000000\" d=\"M179.2836,-72.937C174.3307,-64.2393 168.2039,-53.4799 162.6887,-43.7948\"/>\n<polygon fill=\"#000000\" stroke=\"#000000\" points=\"165.6366,-41.8984 157.6467,-34.9405 159.5537,-45.3623 165.6366,-41.8984\"/>\n</g>\n<!-- 9 -->\n<g id=\"node10\" class=\"node\">\n<title>9</title>\n<ellipse fill=\"#60a6f6\" stroke=\"#000000\" cx=\"229\" cy=\"-18\" rx=\"35.9954\" ry=\"18\"/>\n<text text-anchor=\"middle\" x=\"229\" y=\"-14.3\" font-family=\"Times,serif\" font-size=\"14.00\" fill=\"#000000\">&#45;0.013</text>\n</g>\n<!-- 7&#45;&gt;9 -->\n<g id=\"edge4\" class=\"edge\">\n<title>7&#45;&gt;9</title>\n<path fill=\"none\" stroke=\"#000000\" d=\"M198.4794,-72.937C203.2415,-64.3654 209.1159,-53.7914 214.4353,-44.2165\"/>\n<polygon fill=\"#000000\" stroke=\"#000000\" points=\"217.5138,-45.882 219.3107,-35.4407 211.3947,-42.4825 217.5138,-45.882\"/>\n</g>\n</g>\n</svg>\n"
          },
          "metadata": {},
          "execution_count": 20
        }
      ]
    },
    {
      "cell_type": "code",
      "source": [
        "est_gp._program.raw_fitness_ "
      ],
      "metadata": {
        "colab": {
          "base_uri": "https://localhost:8080/"
        },
        "id": "shBu4PDElwy6",
        "outputId": "fa0c2def-28a4-449d-e927-da481a861720"
      },
      "execution_count": null,
      "outputs": [
        {
          "output_type": "execute_result",
          "data": {
            "text/plain": [
              "-1.1402896439659562"
            ]
          },
          "metadata": {},
          "execution_count": 22
        }
      ]
    },
    {
      "cell_type": "code",
      "source": [
        ""
      ],
      "metadata": {
        "id": "h5z1QD6PnSQA"
      },
      "execution_count": null,
      "outputs": []
    }
  ]
}